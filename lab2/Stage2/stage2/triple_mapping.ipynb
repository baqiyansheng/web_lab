{
 "cells": [
  {
   "cell_type": "markdown",
   "metadata": {},
   "source": [
    "#### 578个电影实体的映射"
   ]
  },
  {
   "cell_type": "code",
   "execution_count": 3,
   "metadata": {},
   "outputs": [],
   "source": [
    "import gzip\n",
    "from tqdm import tqdm\n",
    "\n",
    "file3 = 'data/Douban/movie_id_map.txt'  # 电影ID的映射\n",
    "file4 = 'data/Douban/douban2fb.txt'  # 实体-Id映射\n",
    "outfile2 = 'data/Douban/entry-mapping.pkl'  # 实体映射\n",
    "\n",
    "\n",
    "def movie_entry_mapping():  # 将电影实体的ID 映射到[0, 𝑛𝑢𝑚 𝑜𝑓 𝑚𝑜𝑣𝑖𝑒𝑠)范围内,0-577\n",
    "    ids = []\n",
    "    with open(file3, 'r') as f2:\n",
    "        for line in f2:\n",
    "            id = line.strip().split()[0]\n",
    "            ids.append(id)\n",
    "    with open(file4, 'r') as f3:\n",
    "        for line in f3:\n",
    "            id = line.strip().split()[0]\n",
    "            entry = line.strip().split()[1]\n",
    "            if (id in ids):\n",
    "                idx = ids.index(id)\n",
    "                ids[idx] = entry\n",
    "    with open(outfile2, 'wb') as f1:\n",
    "        count = 0\n",
    "        for id in ids:\n",
    "            f1.write(f'{count}\\t\\t{id}\\n'.encode('utf-8'))\n",
    "            count += 1\n",
    "\n",
    "movie_entry_mapping()"
   ]
  },
  {
   "cell_type": "markdown",
   "metadata": {},
   "source": [
    "#### 三元组的映射"
   ]
  },
  {
   "cell_type": "code",
   "execution_count": 12,
   "metadata": {},
   "outputs": [
    {
     "name": "stderr",
     "output_type": "stream",
     "text": [
      "  2%|▏         | 47006/2382802 [00:02<02:07, 18309.41it/s]\n"
     ]
    }
   ],
   "source": [
    "file1 = '../../Stage1/final.gz'\n",
    "outfile1 = 'data/Douban/kg_final.txt'  # 三元组映射\n",
    "outfile2 = 'data/Douban/entry-mapping.pkl'  # 实体映射\n",
    "outfile3 = 'data/Douban/relation-mapping.pkl'  # 关系映射\n",
    "\n",
    "\n",
    "def entry_index_mapping():\n",
    "    entries = []  # 通过按顺序加载到list中，来实现映射功能\n",
    "    relations = []  # 关系映射\n",
    "    with open(outfile2, 'rb') as f1:  # 已经映射过的一部分实体\n",
    "        for line in f1:\n",
    "            entry = line.decode().strip().split()[1]\n",
    "            entries.append(entry)\n",
    "    triples = []\n",
    "    with open(outfile1, 'w') as f1:\n",
    "        with gzip.open(file1, 'rb') as f:\n",
    "            for line in tqdm(f, total=47006):\n",
    "                triple_parts = line.decode().strip().split('\\t')\n",
    "                if (triple_parts[0] not in entries):\n",
    "                    entries.append(triple_parts[0])\n",
    "                if (triple_parts[1] not in relations):\n",
    "                    relations.append(triple_parts[1])\n",
    "                if (triple_parts[2] not in entries):\n",
    "                    entries.append(triple_parts[2])\n",
    "                idx1 = entries.index(triple_parts[0])\n",
    "                idx2 = relations.index(triple_parts[1])\n",
    "                idx3 = entries.index(triple_parts[2])\n",
    "                f1.write(f'{idx1}\\t{idx2}\\t{idx3}\\n')\n",
    "    with open(outfile2, 'wb') as f1:\n",
    "        count = 0\n",
    "        for entry in entries:\n",
    "            f1.write(f'{count}\\t\\t{entry}\\n'.encode('utf-8'))\n",
    "            count += 1\n",
    "    with open(outfile3, 'wb') as f2:\n",
    "        count = 0\n",
    "        for relation in relations:\n",
    "            f2.write(f'{count}\\t\\t{relation}\\n'.encode('utf-8'))\n",
    "            count += 1\n",
    "\n",
    "\n",
    "entry_index_mapping()"
   ]
  }
 ],
 "metadata": {
  "kernelspec": {
   "display_name": "Python 3",
   "language": "python",
   "name": "python3"
  },
  "language_info": {
   "codemirror_mode": {
    "name": "ipython",
    "version": 3
   },
   "file_extension": ".py",
   "mimetype": "text/x-python",
   "name": "python",
   "nbconvert_exporter": "python",
   "pygments_lexer": "ipython3",
   "version": "3.9.13"
  }
 },
 "nbformat": 4,
 "nbformat_minor": 2
}
