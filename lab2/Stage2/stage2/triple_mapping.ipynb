{
 "cells": [
  {
   "cell_type": "markdown",
   "metadata": {},
   "source": [
    "#### 578个电影实体的映射"
   ]
  },
  {
   "cell_type": "code",
   "execution_count": 10,
   "metadata": {},
   "outputs": [],
   "source": [
    "import gzip\n",
    "from tqdm import tqdm\n",
    "\n",
    "file3 = 'data/Douban/movie_id_map.txt'  # 电影ID的映射\n",
    "file4 = 'data/Douban/douban2fb.txt'  # 实体-Id映射\n",
    "outfile2 = 'data/Douban/entry-mapping.pkl'  # 实体映射\n",
    "\n",
    "\n",
    "def movie_entry_mapping():  # 将电影实体的ID 映射到[0, 𝑛𝑢𝑚 𝑜𝑓 𝑚𝑜𝑣𝑖𝑒𝑠)范围内,0-577\n",
    "    ids = []\n",
    "    with open(file3, 'r') as f2:\n",
    "        for line in f2:\n",
    "            id = line.strip().split()[0]\n",
    "            ids.append(id)\n",
    "    with open(file4, 'r') as f3:\n",
    "        for line in f3:\n",
    "            id = line.strip().split()[0]\n",
    "            entry = line.strip().split()[1]\n",
    "            if (id in ids):\n",
    "                idx = ids.index(id)\n",
    "                ids[idx] = entry\n",
    "    with open(outfile2, 'wb') as f1:\n",
    "        count = 0\n",
    "        for id in ids:\n",
    "            f1.write(f'{count}\\t\\t{id}\\n'.encode('utf-8'))\n",
    "            count += 1\n",
    "\n",
    "movie_entry_mapping()"
   ]
  },
  {
   "cell_type": "markdown",
   "metadata": {},
   "source": [
    "#### 三元组的映射"
   ]
  },
  {
   "cell_type": "code",
   "execution_count": 14,
   "metadata": {},
   "outputs": [
    {
     "name": "stderr",
     "output_type": "stream",
     "text": [
      "  0%|          | 0/2382802 [00:00<?, ?it/s]\n"
     ]
    },
    {
     "ename": "UnsupportedOperation",
     "evalue": "write",
     "output_type": "error",
     "traceback": [
      "\u001b[1;31m---------------------------------------------------------------------------\u001b[0m",
      "\u001b[1;31mUnsupportedOperation\u001b[0m                      Traceback (most recent call last)",
      "Cell \u001b[1;32mIn[14], line 48\u001b[0m\n\u001b[0;32m     44\u001b[0m             f2\u001b[38;5;241m.\u001b[39mwrite(\u001b[38;5;124mf\u001b[39m\u001b[38;5;124m'\u001b[39m\u001b[38;5;132;01m{\u001b[39;00mcount\u001b[38;5;132;01m}\u001b[39;00m\u001b[38;5;130;01m\\t\u001b[39;00m\u001b[38;5;130;01m\\t\u001b[39;00m\u001b[38;5;132;01m{\u001b[39;00mrelation\u001b[38;5;132;01m}\u001b[39;00m\u001b[38;5;130;01m\\n\u001b[39;00m\u001b[38;5;124m'\u001b[39m\u001b[38;5;241m.\u001b[39mencode(\u001b[38;5;124m'\u001b[39m\u001b[38;5;124mutf-8\u001b[39m\u001b[38;5;124m'\u001b[39m))\n\u001b[0;32m     45\u001b[0m             count \u001b[38;5;241m+\u001b[39m\u001b[38;5;241m=\u001b[39m \u001b[38;5;241m1\u001b[39m\n\u001b[1;32m---> 48\u001b[0m \u001b[43mentry_index_mapping\u001b[49m\u001b[43m(\u001b[49m\u001b[43m)\u001b[49m\n",
      "Cell \u001b[1;32mIn[14], line 35\u001b[0m, in \u001b[0;36mentry_index_mapping\u001b[1;34m()\u001b[0m\n\u001b[0;32m     33\u001b[0m             idx2 \u001b[38;5;241m=\u001b[39m relations\u001b[38;5;241m.\u001b[39mindex(triple_parts[\u001b[38;5;241m1\u001b[39m])\n\u001b[0;32m     34\u001b[0m             idx3 \u001b[38;5;241m=\u001b[39m entries\u001b[38;5;241m.\u001b[39mindex(triple_parts[\u001b[38;5;241m2\u001b[39m])\n\u001b[1;32m---> 35\u001b[0m             \u001b[43mf1\u001b[49m\u001b[38;5;241;43m.\u001b[39;49m\u001b[43mwrite\u001b[49m\u001b[43m(\u001b[49m\u001b[38;5;124;43mf\u001b[39;49m\u001b[38;5;124;43m'\u001b[39;49m\u001b[38;5;132;43;01m{\u001b[39;49;00m\u001b[43midx1\u001b[49m\u001b[38;5;132;43;01m}\u001b[39;49;00m\u001b[38;5;130;43;01m\\t\u001b[39;49;00m\u001b[38;5;132;43;01m{\u001b[39;49;00m\u001b[43midx2\u001b[49m\u001b[38;5;132;43;01m}\u001b[39;49;00m\u001b[38;5;130;43;01m\\t\u001b[39;49;00m\u001b[38;5;132;43;01m{\u001b[39;49;00m\u001b[43midx3\u001b[49m\u001b[38;5;132;43;01m}\u001b[39;49;00m\u001b[38;5;124;43m'\u001b[39;49m\u001b[43m)\u001b[49m\n\u001b[0;32m     36\u001b[0m \u001b[38;5;28;01mwith\u001b[39;00m \u001b[38;5;28mopen\u001b[39m(outfile2, \u001b[38;5;124m'\u001b[39m\u001b[38;5;124mwb\u001b[39m\u001b[38;5;124m'\u001b[39m) \u001b[38;5;28;01mas\u001b[39;00m f1:\n\u001b[0;32m     37\u001b[0m     count \u001b[38;5;241m=\u001b[39m \u001b[38;5;241m0\u001b[39m\n",
      "\u001b[1;31mUnsupportedOperation\u001b[0m: write"
     ]
    }
   ],
   "source": [
    "file1 = '../../Stage1/final.gz'\n",
    "outfile1 = 'data/Douban/kg_final.txt'  # 三元组映射\n",
    "outfile2 = 'data/Douban/entry-mapping.pkl'  # 实体映射\n",
    "outfile3 = 'data/Douban/relation-mapping.pkl'  # 关系映射\n",
    "\n",
    "\n",
    "# with open(file1, 'rb') as f1:\n",
    "#     count = 0\n",
    "#     for line in f1:\n",
    "#         if count % 1000000 == 0:\n",
    "#             print(count)\n",
    "#         count += 1\n",
    "#     print(count)\n",
    "def entry_index_mapping():\n",
    "    entries = []  # 通过按顺序加载到list中，来实现映射功能\n",
    "    relations = []  # 关系映射\n",
    "    with open(outfile2, 'rb') as f1:  # 已经映射过的一部分实体\n",
    "        for line in f1:\n",
    "            entry = line.decode().strip().split()[1]\n",
    "            entries.append(entry)\n",
    "    triples = []\n",
    "    with open(outfile1, 'w') as f1:\n",
    "        with gzip.open(file1, 'rb') as f:\n",
    "            for line in tqdm(f, total=2382802):\n",
    "                triple_parts = line.decode().strip().split('\\t')\n",
    "                if (triple_parts[0] not in entries):\n",
    "                    entries.append(triple_parts[0])\n",
    "                if (triple_parts[1] not in relations):\n",
    "                    relations.append(triple_parts[1])\n",
    "                if (triple_parts[2] not in entries):\n",
    "                    entries.append(triple_parts[2])\n",
    "                idx1 = entries.index(triple_parts[0])\n",
    "                idx2 = relations.index(triple_parts[1])\n",
    "                idx3 = entries.index(triple_parts[2])\n",
    "                f1.write(f'{idx1}\\t{idx2}\\t{idx3}')\n",
    "    with open(outfile2, 'wb') as f1:\n",
    "        count = 0\n",
    "        for entry in entries:\n",
    "            f1.write(f'{count}\\t\\t{entry}\\n'.encode('utf-8'))\n",
    "            count += 1\n",
    "    with open(outfile3, 'wb') as f2:\n",
    "        count = 0\n",
    "        for relation in relations:\n",
    "            f2.write(f'{count}\\t\\t{relation}\\n'.encode('utf-8'))\n",
    "            count += 1\n",
    "\n",
    "\n",
    "entry_index_mapping()"
   ]
  }
 ],
 "metadata": {
  "kernelspec": {
   "display_name": "Python 3",
   "language": "python",
   "name": "python3"
  },
  "language_info": {
   "codemirror_mode": {
    "name": "ipython",
    "version": 3
   },
   "file_extension": ".py",
   "mimetype": "text/x-python",
   "name": "python",
   "nbconvert_exporter": "python",
   "pygments_lexer": "ipython3",
   "version": "3.9.13"
  }
 },
 "nbformat": 4,
 "nbformat_minor": 2
}
