{
 "cells": [
  {
   "cell_type": "markdown",
   "metadata": {},
   "source": [
    "#### 获得初始电影实体"
   ]
  },
  {
   "cell_type": "code",
   "execution_count": 1,
   "metadata": {},
   "outputs": [
    {
     "name": "stdout",
     "output_type": "stream",
     "text": [
      "entry0: 578\n"
     ]
    }
   ],
   "source": [
    "# 读取 id 列表\n",
    "import csv\n",
    "import pickle\n",
    "\n",
    "origin_movies = set()\n",
    "def entry0():\n",
    "\n",
    "    # 构建实体-tag字典，同时匹配获得Freebase中对应的实体（共578个可匹配实体），加入到一跳可匹配实体\n",
    "    with open('lab2/Stage1/douban2fb.txt', 'rb') as f:\n",
    "        for line in f:\n",
    "            line = line.strip()\n",
    "            parts = line.decode().split('\\t')\n",
    "            origin_movies.add(parts[1])\n",
    "    print(\"entry0:\", len(origin_movies))\n",
    "    with open(\"lab2/Stage1/entry0.pkl\", \"wb\") as f:\n",
    "        pickle.dump(origin_movies, f)\n",
    "\n",
    "\n",
    "entry0()\n"
   ]
  },
  {
   "cell_type": "markdown",
   "metadata": {},
   "source": [
    "#### 一跳得到子图并对实体和关系计数"
   ]
  },
  {
   "cell_type": "code",
   "execution_count": 2,
   "metadata": {},
   "outputs": [
    {
     "name": "stderr",
     "output_type": "stream",
     "text": [
      "100%|██████████| 395577070/395577070 [10:28<00:00, 629609.93it/s]\n"
     ]
    }
   ],
   "source": [
    "import gzip\n",
    "import pickle\n",
    "from tqdm import tqdm\n",
    "\n",
    "template_str = \"http://rdf.freebase.com/ns/\"\n",
    "freebase_info_fpath = \"lab2/Stage1/freebase_douban.gz\"  # 初始freebase\n",
    "outfile1 = \"lab2/Stage1/graph_1step.gz\"  # 一跳输出文件\n",
    "outfile2 = \"lab2/Stage1/graph_2step.gz\"  # 二跳输出文件\n",
    "outfile3 = \"lab2/Stage1/graph_3step.gz\"\n",
    "\n",
    "entry_num = {}\n",
    "def step1():\n",
    "    # 以 mvi_entities 为起点生成一跳子图，保存到 grarph1step.gz 文件中\n",
    "    with gzip.open(outfile1, 'wb') as ans:\n",
    "        with open('lab2/Stage1/entry0.pkl', 'rb') as f1:\n",
    "            mvi_entities = pickle.load(f1)\n",
    "        with gzip.open(freebase_info_fpath, 'rb') as f:\n",
    "            \n",
    "            for line in tqdm(f, total=395577070):\n",
    "                # if count > max_run_times:\n",
    "                #     break  # 超过设定上限即停止查找一跳可达实体\n",
    "                line = line.strip()\n",
    "                triple_parts = line.decode().split('\\t')\n",
    "                if (template_str not in triple_parts[0]\n",
    "                        or template_str not in triple_parts[1]\n",
    "                        or template_str not in triple_parts[2]):\n",
    "                    continue\n",
    "                # 头实体\n",
    "                head = triple_parts[0][len(template_str) + 1:].strip('>')\n",
    "                # 关系\n",
    "                rel = triple_parts[1][len(template_str) + 1:].strip('>')\n",
    "                # 尾实体\n",
    "                tail = triple_parts[2][len(template_str) + 1:].strip('>')\n",
    "\n",
    "                # 保存头实体在 mvi_entities 中的三元组\n",
    "                if head in mvi_entities:\n",
    "                    ans.write(line + b'\\n')\n",
    "                    # 实体相关三元组计数\n",
    "                    if (head in entry_num):\n",
    "                        entry_num[head] += 1\n",
    "                    else:\n",
    "                        entry_num[head] = 1\n",
    "                    if (tail in entry_num):\n",
    "                        entry_num[tail] += 1\n",
    "                    else:\n",
    "                        entry_num[tail] = 1\n",
    "                    if (rel in entry_num):\n",
    "                        entry_num[rel] += 1\n",
    "                    else:\n",
    "                        entry_num[rel] = 1\n",
    "\n",
    "\n",
    "step1()"
   ]
  },
  {
   "cell_type": "markdown",
   "metadata": {},
   "source": [
    "#### 筛选一跳子图"
   ]
  },
  {
   "cell_type": "code",
   "execution_count": 18,
   "metadata": {},
   "outputs": [
    {
     "name": "stderr",
     "output_type": "stream",
     "text": [
      "  0%|          | 118773/395577070 [00:00<13:29, 488598.43it/s]"
     ]
    },
    {
     "name": "stdout",
     "output_type": "stream",
     "text": [
      "1step: 118773\n",
      "entry1: 758\n"
     ]
    },
    {
     "name": "stderr",
     "output_type": "stream",
     "text": [
      "\n"
     ]
    }
   ],
   "source": [
    "def Select1():\n",
    "    with gzip.open(outfile1, 'rb') as f:\n",
    "        mvi_entities2 = set()\n",
    "        with open(\"lab2/Stage1/entry0.pkl\", \"rb\") as f1:\n",
    "            mvi_entities = pickle.load(f1)\n",
    "        count = 0\n",
    "        for line in tqdm(f, total=395577070):\n",
    "            triple_parts = line.decode().split('\\t')[:3]\n",
    "            # 头实体\n",
    "            head = triple_parts[0][len(template_str) + 1:].strip('>')\n",
    "            # 关系\n",
    "            rel = triple_parts[1][len(template_str) + 1:].strip('>')\n",
    "            # 尾实体\n",
    "            tail = triple_parts[2][len(template_str) + 1:].strip('>')\n",
    "            if ((head in mvi_entities or entry_num[head] > 20)\n",
    "                    and (entry_num[tail] > 20)\n",
    "                    and (rel in mvi_entities or entry_num[rel] > 50)):\n",
    "                mvi_entities2.add(head)\n",
    "                mvi_entities2.add(tail)\n",
    "            count += 1 \n",
    "        print(\"1step:\", count)\n",
    "        print(\"entry1:\", len(mvi_entities2))\n",
    "        with open(\"lab2/Stage1/entry1.pkl\", \"wb\") as f:\n",
    "            pickle.dump(mvi_entities2, f)\n",
    "        # print(mvi_entities2)\n",
    "\n",
    "\n",
    "Select1()"
   ]
  },
  {
   "cell_type": "markdown",
   "metadata": {},
   "source": [
    "#### 二跳子图"
   ]
  },
  {
   "cell_type": "code",
   "execution_count": 19,
   "metadata": {},
   "outputs": [
    {
     "name": "stderr",
     "output_type": "stream",
     "text": [
      "100%|██████████| 395577070/395577070 [18:26<00:00, 357411.87it/s] \n"
     ]
    }
   ],
   "source": [
    "entry_num2 = {}  # 二跳元素存储\n",
    "\n",
    "\n",
    "def step2():\n",
    "    with gzip.open(outfile2, 'wb') as ans:\n",
    "        with open('lab2/Stage1/entry1.pkl', 'rb') as f1:\n",
    "            mvi_entities = pickle.load(f1)\n",
    "        with gzip.open(freebase_info_fpath, 'rb') as f:\n",
    "            for line in tqdm(f, total=395577070):\n",
    "                # if count > max_run_times:\n",
    "                #     break  # 超过设定上限即停止查找一跳可达实体\n",
    "                line = line.strip()\n",
    "                triple_parts = line.decode().split('\\t')\n",
    "                if (template_str not in triple_parts[0]\n",
    "                        or template_str not in triple_parts[1]\n",
    "                        or template_str not in triple_parts[2]):\n",
    "                    continue\n",
    "                # 头实体\n",
    "                head = triple_parts[0][len(template_str) + 1:].strip('>')\n",
    "                # 关系\n",
    "                rel = triple_parts[1][len(template_str) + 1:].strip('>')\n",
    "                # 尾实体\n",
    "                tail = triple_parts[2][len(template_str) + 1:].strip('>')\n",
    "\n",
    "                # 保存头实体在 mvi_entities 中的三元组\n",
    "                if head in mvi_entities:\n",
    "                    ans.write(line + b'\\n')\n",
    "                    # 实体相关三元组计数\n",
    "                    if (head in entry_num2):\n",
    "                        entry_num2[head] += 1\n",
    "                    else:\n",
    "                        entry_num2[head] = 1\n",
    "                    if (tail in entry_num2):\n",
    "                        entry_num2[tail] += 1\n",
    "                    else:\n",
    "                        entry_num2[tail] = 1\n",
    "                    if (rel in entry_num2):\n",
    "                        entry_num2[rel] += 1\n",
    "                    else:\n",
    "                        entry_num2[rel] = 1\n",
    "\n",
    "\n",
    "step2()"
   ]
  },
  {
   "cell_type": "markdown",
   "metadata": {},
   "source": [
    "#### 第一次筛选二跳子图"
   ]
  },
  {
   "cell_type": "code",
   "execution_count": 20,
   "metadata": {},
   "outputs": [
    {
     "name": "stderr",
     "output_type": "stream",
     "text": [
      "100%|██████████| 104715852/104715852 [05:06<00:00, 341413.53it/s]\n"
     ]
    },
    {
     "name": "stdout",
     "output_type": "stream",
     "text": [
      "step2: 104704830\n",
      "entry2: 50231562\n"
     ]
    }
   ],
   "source": [
    "def Select2():\n",
    "    count = 0\n",
    "    with gzip.open(outfile2, 'rb') as f:\n",
    "        mvi_entities2 = set()\n",
    "        with open(\"lab2/Stage1/entry1.pkl\", \"rb\") as f1:\n",
    "            mvi_entities = pickle.load(f1)\n",
    "        for line in tqdm(f, total=104715852):\n",
    "            triple_parts = line.decode().split('\\t')[:3]\n",
    "            # 头实体\n",
    "            head = triple_parts[0][len(template_str) + 1:].strip('>')\n",
    "            # 关系\n",
    "            rel = triple_parts[1][len(template_str) + 1:].strip('>')\n",
    "            # 尾实体\n",
    "            tail = triple_parts[2][len(template_str) + 1:].strip('>')\n",
    "            if ((head in mvi_entities or entry_num2[head] <= 20000)\n",
    "                    and (entry_num2[tail] <= 20000)\n",
    "                    and (rel in mvi_entities or entry_num2[rel] > 50)):\n",
    "                mvi_entities2.add(head)\n",
    "                mvi_entities2.add(tail)\n",
    "                count += 1\n",
    "        print('step2:',count)\n",
    "        print(\"entry2:\", len(mvi_entities2))\n",
    "        with open(\"lab2/Stage1/entry2.pkl\", \"wb\") as f:\n",
    "            pickle.dump(mvi_entities2, f)\n",
    "\n",
    "\n",
    "Select2()"
   ]
  },
  {
   "cell_type": "markdown",
   "metadata": {},
   "source": [
    "#### 对筛选过的二跳子图重新计数"
   ]
  },
  {
   "cell_type": "code",
   "execution_count": 21,
   "metadata": {},
   "outputs": [
    {
     "name": "stderr",
     "output_type": "stream",
     "text": [
      "100%|██████████| 104715852/104715852 [09:07<00:00, 191128.85it/s]\n"
     ]
    }
   ],
   "source": [
    "entry_num3 = {}  # 二跳首次筛选后元素存储\n",
    "def step3():\n",
    "    with gzip.open(outfile3, 'wb') as ans:\n",
    "        with open('lab2/Stage1/entry2.pkl', 'rb') as f1:\n",
    "            mvi_entities = pickle.load(f1)\n",
    "        with gzip.open(outfile2, 'rb') as f:\n",
    "            for line in tqdm(f, total=104715852):\n",
    "                # if count > max_run_times:\n",
    "                #     break  # 超过设定上限即停止查找一跳可达实体\n",
    "                line = line.strip()\n",
    "                triple_parts = line.decode().split('\\t')\n",
    "                if (template_str not in triple_parts[0]\n",
    "                        or template_str not in triple_parts[1]\n",
    "                        or template_str not in triple_parts[2]):\n",
    "                    continue\n",
    "                # 头实体\n",
    "                head = triple_parts[0][len(template_str) + 1:].strip('>')\n",
    "                # 关系\n",
    "                rel = triple_parts[1][len(template_str) + 1:].strip('>')\n",
    "                # 尾实体\n",
    "                tail = triple_parts[2][len(template_str) + 1:].strip('>')\n",
    "\n",
    "                # 保存头实体在 mvi_entities 中的三元组\n",
    "                if head in mvi_entities:\n",
    "                    ans.write(line + b'\\n')\n",
    "                    # 实体相关三元组计数\n",
    "                    # if (head in entry_num3):\n",
    "                    #     entry_num3[head] += 1\n",
    "                    # else:\n",
    "                    #     entry_num3[head] = 1\n",
    "                    # if (tail in entry_num3):\n",
    "                    #     entry_num3[tail] += 1\n",
    "                    # else:\n",
    "                    #     entry_num3[tail] = 1\n",
    "                    # if (rel in entry_num3):\n",
    "                    #     entry_num3[rel] += 1\n",
    "                    # else:\n",
    "                    #     entry_num3[rel] = 1\n",
    "\n",
    "\n",
    "step3()"
   ]
  },
  {
   "cell_type": "markdown",
   "metadata": {},
   "source": [
    "#### 迭代筛选"
   ]
  },
  {
   "cell_type": "code",
   "execution_count": 2,
   "metadata": {},
   "outputs": [],
   "source": [
    "def Select(triplets):\n",
    "    entry_num = {}\n",
    "    for triplet in triplets:\n",
    "        if (triplet[0] not in entry_num):\n",
    "            entry_num[triplet[0]] = 0\n",
    "        entry_num[triplet[0]] += 1\n",
    "        if (triplet[2] not in entry_num):\n",
    "            entry_num[triplet[2]] = 0\n",
    "        entry_num[triplet[2]] += 1\n",
    "        if (triplet[1] not in entry_num):\n",
    "            entry_num[triplet[1]] = 0\n",
    "        entry_num[triplet[1]] += 1\n",
    "    ans = []\n",
    "    for triplet in triplets:\n",
    "        if ((triplets[0] in origin_movies or entry_num[triplet[0]]>15)and(triplets[2] in origin_movies or entry_num[triplet[2]]>15)and(entry_num[triplet[1]]>50)):\n",
    "            ans.append(triplet)\n",
    "    return ans"
   ]
  },
  {
   "cell_type": "markdown",
   "metadata": {},
   "source": [
    "#### 二次筛选二跳子图"
   ]
  },
  {
   "cell_type": "code",
   "execution_count": 3,
   "metadata": {},
   "outputs": [
    {
     "name": "stderr",
     "output_type": "stream",
     "text": [
      "100%|██████████| 104715852/104715852 [04:57<00:00, 352524.46it/s]\n"
     ]
    },
    {
     "name": "stdout",
     "output_type": "stream",
     "text": [
      "get before_selected\n",
      "筛选后: 359968 筛选前: 104715852\n",
      "筛选后: 359481 筛选前: 359968\n",
      "筛选后: 359279 筛选前: 359481\n",
      "筛选后: 359187 筛选前: 359279\n",
      "筛选后: 359132 筛选前: 359187\n",
      "筛选后: 359101 筛选前: 359132\n",
      "筛选后: 359080 筛选前: 359101\n",
      "筛选后: 359047 筛选前: 359080\n",
      "筛选后: 359047 筛选前: 359047\n",
      "final: 359047\n",
      "entry3: 17674\n"
     ]
    }
   ],
   "source": [
    "import gzip\n",
    "import pickle\n",
    "from tqdm import tqdm\n",
    "\n",
    "template_str = \"http://rdf.freebase.com/ns/\"\n",
    "freebase_info_fpath = \"lab2/Stage1/freebase_douban.gz\"  # 初始freebase\n",
    "outfile1 = \"lab2/Stage1/graph_1step.gz\"  # 一跳输出文件\n",
    "outfile2 = \"lab2/Stage1/graph_2step.gz\"  # 二跳输出文件\n",
    "outfile3 = \"lab2/Stage1/graph_3step.gz\"\n",
    "\n",
    "\n",
    "outfile3 = \"lab2/Stage1/graph_3step.gz\"\n",
    "\n",
    "\n",
    "def Select3():\n",
    "    before_selected = []\n",
    "    with gzip.open(outfile3, 'rb') as f:\n",
    "        for line in tqdm(f, total=104715852):\n",
    "            triple_parts = line.decode().split('\\t')[:3]\n",
    "            # 头实体\n",
    "            head = triple_parts[0][len(template_str) + 1:].strip('>')\n",
    "            # 关系\n",
    "            rel = triple_parts[1][len(template_str) + 1:].strip('>')\n",
    "            # 尾实体\n",
    "            tail = triple_parts[2][len(template_str) + 1:].strip('>')\n",
    "            before_selected.append((head, rel, tail))\n",
    "        print('get before_selected')\n",
    "        selected = Select(before_selected)\n",
    "        print('筛选后:', len(selected), '筛选前:', len(before_selected))\n",
    "\n",
    "    while len(selected) < len(before_selected):  # 迭代筛选\n",
    "        before_selected = selected\n",
    "        selected = Select(before_selected)\n",
    "        print('筛选后:', len(selected), '筛选前:', len(before_selected))\n",
    "\n",
    "    with gzip.open('lab2/Stage1/final2.gz', 'wb') as ans:\n",
    "        count = 0\n",
    "        mvi_entities2 = set()\n",
    "        for triplet in selected:\n",
    "            mvi_entities2.add(triplet[0])\n",
    "            mvi_entities2.add(triplet[2])\n",
    "        print(\"final:\", len(selected))\n",
    "        print(\"entry3:\", len(mvi_entities2))\n",
    "        with open(\"lab2/Stage1/entry3.pkl\", \"wb\") as f:\n",
    "            pickle.dump(mvi_entities2, f)\n",
    "\n",
    "\n",
    "Select3()"
   ]
  }
 ],
 "metadata": {
  "kernelspec": {
   "display_name": "Python 3",
   "language": "python",
   "name": "python3"
  },
  "language_info": {
   "codemirror_mode": {
    "name": "ipython",
    "version": 3
   },
   "file_extension": ".py",
   "mimetype": "text/x-python",
   "name": "python",
   "nbconvert_exporter": "python",
   "pygments_lexer": "ipython3",
   "version": "3.9.13"
  }
 },
 "nbformat": 4,
 "nbformat_minor": 2
}
